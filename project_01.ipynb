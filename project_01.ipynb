{
 "nbformat": 4,
 "nbformat_minor": 2,
 "metadata": {
  "language_info": {
   "name": "python",
   "codemirror_mode": {
    "name": "ipython",
    "version": 3
   },
   "version": "3.6.9-final"
  },
  "orig_nbformat": 2,
  "file_extension": ".py",
  "mimetype": "text/x-python",
  "name": "python",
  "npconvert_exporter": "python",
  "pygments_lexer": "ipython3",
  "version": 3,
  "kernelspec": {
   "name": "python36964bitc1d1e0b4163b49d4820ce74134ca452a",
   "display_name": "Python 3.6.9 64-bit"
  }
 },
 "cells": [
  {
   "cell_type": "code",
   "execution_count": 1,
   "metadata": {},
   "outputs": [],
   "source": [
    "import pandas as pd"
   ]
  },
  {
   "cell_type": "code",
   "execution_count": 2,
   "metadata": {},
   "outputs": [],
   "source": [
    "mta_test = pd.read_csv(\"http://web.mta.info/developers/data/nyct/turnstile/turnstile_190330.txt\")"
   ]
  },
  {
   "cell_type": "code",
   "execution_count": 3,
   "metadata": {},
   "outputs": [
    {
     "output_type": "execute_result",
     "data": {
      "text/plain": "    C/A  UNIT       SCP STATION LINENAME DIVISION        DATE      TIME  \\\n0  A002  R051  02-00-00   59 ST  NQR456W      BMT  03/23/2019  00:00:00   \n1  A002  R051  02-00-00   59 ST  NQR456W      BMT  03/23/2019  04:00:00   \n2  A002  R051  02-00-00   59 ST  NQR456W      BMT  03/23/2019  08:00:00   \n3  A002  R051  02-00-00   59 ST  NQR456W      BMT  03/23/2019  12:00:00   \n4  A002  R051  02-00-00   59 ST  NQR456W      BMT  03/23/2019  16:00:00   \n\n      DESC  ENTRIES  \\\n0  REGULAR  6989774   \n1  REGULAR  6989795   \n2  REGULAR  6989813   \n3  REGULAR  6989924   \n4  REGULAR  6990200   \n\n   EXITS                                                                 \n0                                            2370411                     \n1                                            2370413                     \n2                                            2370436                     \n3                                            2370512                     \n4                                            2370573                     ",
      "text/html": "<div>\n<style scoped>\n    .dataframe tbody tr th:only-of-type {\n        vertical-align: middle;\n    }\n\n    .dataframe tbody tr th {\n        vertical-align: top;\n    }\n\n    .dataframe thead th {\n        text-align: right;\n    }\n</style>\n<table border=\"1\" class=\"dataframe\">\n  <thead>\n    <tr style=\"text-align: right;\">\n      <th></th>\n      <th>C/A</th>\n      <th>UNIT</th>\n      <th>SCP</th>\n      <th>STATION</th>\n      <th>LINENAME</th>\n      <th>DIVISION</th>\n      <th>DATE</th>\n      <th>TIME</th>\n      <th>DESC</th>\n      <th>ENTRIES</th>\n      <th>EXITS</th>\n    </tr>\n  </thead>\n  <tbody>\n    <tr>\n      <th>0</th>\n      <td>A002</td>\n      <td>R051</td>\n      <td>02-00-00</td>\n      <td>59 ST</td>\n      <td>NQR456W</td>\n      <td>BMT</td>\n      <td>03/23/2019</td>\n      <td>00:00:00</td>\n      <td>REGULAR</td>\n      <td>6989774</td>\n      <td>2370411</td>\n    </tr>\n    <tr>\n      <th>1</th>\n      <td>A002</td>\n      <td>R051</td>\n      <td>02-00-00</td>\n      <td>59 ST</td>\n      <td>NQR456W</td>\n      <td>BMT</td>\n      <td>03/23/2019</td>\n      <td>04:00:00</td>\n      <td>REGULAR</td>\n      <td>6989795</td>\n      <td>2370413</td>\n    </tr>\n    <tr>\n      <th>2</th>\n      <td>A002</td>\n      <td>R051</td>\n      <td>02-00-00</td>\n      <td>59 ST</td>\n      <td>NQR456W</td>\n      <td>BMT</td>\n      <td>03/23/2019</td>\n      <td>08:00:00</td>\n      <td>REGULAR</td>\n      <td>6989813</td>\n      <td>2370436</td>\n    </tr>\n    <tr>\n      <th>3</th>\n      <td>A002</td>\n      <td>R051</td>\n      <td>02-00-00</td>\n      <td>59 ST</td>\n      <td>NQR456W</td>\n      <td>BMT</td>\n      <td>03/23/2019</td>\n      <td>12:00:00</td>\n      <td>REGULAR</td>\n      <td>6989924</td>\n      <td>2370512</td>\n    </tr>\n    <tr>\n      <th>4</th>\n      <td>A002</td>\n      <td>R051</td>\n      <td>02-00-00</td>\n      <td>59 ST</td>\n      <td>NQR456W</td>\n      <td>BMT</td>\n      <td>03/23/2019</td>\n      <td>16:00:00</td>\n      <td>REGULAR</td>\n      <td>6990200</td>\n      <td>2370573</td>\n    </tr>\n  </tbody>\n</table>\n</div>"
     },
     "metadata": {},
     "execution_count": 3
    }
   ],
   "source": [
    "mta_test.head()"
   ]
  },
  {
   "cell_type": "code",
   "execution_count": 11,
   "metadata": {},
   "outputs": [
    {
     "output_type": "execute_result",
     "data": {
      "text/plain": "REGULAR       203876\nRECOVR AUD       719\nName: DESC, dtype: int64"
     },
     "metadata": {},
     "execution_count": 11
    }
   ],
   "source": [
    "mta_test['DESC'].value_counts()"
   ]
  },
  {
   "cell_type": "code",
   "execution_count": 5,
   "metadata": {},
   "outputs": [],
   "source": [
    "mta_stations = pd.read_excel(\"http://web.mta.info/developers/resources/nyct/turnstile/Remote-Booth-Station.xls\")"
   ]
  },
  {
   "cell_type": "code",
   "execution_count": 7,
   "metadata": {},
   "outputs": [
    {
     "output_type": "execute_result",
     "data": {
      "text/plain": "       Remote Booth         Station  Line Name Division\ncount     768   768             768        768      768\nunique    480   768             395        109        8\ntop      R170  R411  34 ST-PENN STA          1      IRT\nfreq        6     1              14         78      287",
      "text/html": "<div>\n<style scoped>\n    .dataframe tbody tr th:only-of-type {\n        vertical-align: middle;\n    }\n\n    .dataframe tbody tr th {\n        vertical-align: top;\n    }\n\n    .dataframe thead th {\n        text-align: right;\n    }\n</style>\n<table border=\"1\" class=\"dataframe\">\n  <thead>\n    <tr style=\"text-align: right;\">\n      <th></th>\n      <th>Remote</th>\n      <th>Booth</th>\n      <th>Station</th>\n      <th>Line Name</th>\n      <th>Division</th>\n    </tr>\n  </thead>\n  <tbody>\n    <tr>\n      <th>count</th>\n      <td>768</td>\n      <td>768</td>\n      <td>768</td>\n      <td>768</td>\n      <td>768</td>\n    </tr>\n    <tr>\n      <th>unique</th>\n      <td>480</td>\n      <td>768</td>\n      <td>395</td>\n      <td>109</td>\n      <td>8</td>\n    </tr>\n    <tr>\n      <th>top</th>\n      <td>R170</td>\n      <td>R411</td>\n      <td>34 ST-PENN STA</td>\n      <td>1</td>\n      <td>IRT</td>\n    </tr>\n    <tr>\n      <th>freq</th>\n      <td>6</td>\n      <td>1</td>\n      <td>14</td>\n      <td>78</td>\n      <td>287</td>\n    </tr>\n  </tbody>\n</table>\n</div>"
     },
     "metadata": {},
     "execution_count": 7
    }
   ],
   "source": [
    "mta_stations.head()"
   ]
  },
  {
   "cell_type": "code",
   "execution_count": null,
   "metadata": {},
   "outputs": [],
   "source": [
    "\"\"\"\n",
    "- transit data from Feb 2 to Mar 29 2019\n",
    "- header file for stations/booths (filtering by station)\n",
    "- focus on data between 8 am and 8 pm\n",
    "\n",
    "- combine data from different weeks\n",
    "- filter/group data by station\n",
    "- columns: stations, station exits, day of week, number of exits, number of entrances\n",
    "- determine the difference between REGULAR and RECOVER AUD in DESC column ->> RECOVER AUD adds recovered data after the fact\n",
    "- group traffic data by stations, see trends on weekdays vs weekends\n",
    "\n",
    "\"\"\""
   ]
  }
 ]
}